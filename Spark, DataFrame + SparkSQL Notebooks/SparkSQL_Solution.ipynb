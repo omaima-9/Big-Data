{
  "nbformat": 4,
  "nbformat_minor": 0,
  "metadata": {
    "colab": {
      "name": "SparkSQL_Solution.ipynb",
      "provenance": [],
      "collapsed_sections": [
        "uqnp3juUYMv0",
        "yOgvLvw4YPcD",
        "iOVwN39ZYU-C",
        "7q78fWJYYciq",
        "rLl1bvpqYhci"
      ]
    },
    "kernelspec": {
      "name": "python3",
      "display_name": "Python 3"
    },
    "language_info": {
      "name": "python"
    }
  },
  "cells": [
    {
      "cell_type": "code",
      "source": [
        "# Installing required packages\n",
        "!pip install pyspark\n",
        "!pip install findspark"
      ],
      "metadata": {
        "colab": {
          "base_uri": "https://localhost:8080/"
        },
        "id": "Unjmt2jDY57b",
        "outputId": "260342b5-6db1-4bcf-9d21-ef46317720fc"
      },
      "execution_count": 1,
      "outputs": [
        {
          "output_type": "stream",
          "name": "stdout",
          "text": [
            "Requirement already satisfied: pyspark in /usr/local/lib/python3.7/dist-packages (3.2.1)\n",
            "Requirement already satisfied: py4j==0.10.9.3 in /usr/local/lib/python3.7/dist-packages (from pyspark) (0.10.9.3)\n",
            "Requirement already satisfied: findspark in /usr/local/lib/python3.7/dist-packages (2.0.1)\n"
          ]
        }
      ]
    },
    {
      "cell_type": "code",
      "source": [
        "import findspark\n",
        "findspark.init()"
      ],
      "metadata": {
        "id": "rpgCzdWxY8hD"
      },
      "execution_count": 2,
      "outputs": []
    },
    {
      "cell_type": "code",
      "source": [
        "import pandas as pd\n",
        "from pyspark import SparkContext, SparkConf\n",
        "from pyspark.sql import SparkSession"
      ],
      "metadata": {
        "id": "i_XKKeYzY9DS"
      },
      "execution_count": 3,
      "outputs": []
    },
    {
      "cell_type": "code",
      "source": [
        "# Creating a spark context class\n",
        "sc = SparkContext()\n",
        "\n",
        "# Creating a spark session\n",
        "spark = SparkSession \\\n",
        "    .builder \\\n",
        "    .appName(\"Python Spark DataFrames basic example\") \\\n",
        "    .config(\"spark.some.config.option\", \"some-value\") \\\n",
        "    .getOrCreate()"
      ],
      "metadata": {
        "id": "1QLG7ayvZBVq"
      },
      "execution_count": 4,
      "outputs": []
    },
    {
      "cell_type": "code",
      "source": [
        "spark"
      ],
      "metadata": {
        "colab": {
          "base_uri": "https://localhost:8080/",
          "height": 219
        },
        "id": "Tvo5E2WMZEKS",
        "outputId": "85d1bdaf-4fa4-4faf-f4a5-2880ab14469b"
      },
      "execution_count": 5,
      "outputs": [
        {
          "output_type": "execute_result",
          "data": {
            "text/plain": [
              "<pyspark.sql.session.SparkSession at 0x7f059b807a50>"
            ],
            "text/html": [
              "\n",
              "            <div>\n",
              "                <p><b>SparkSession - in-memory</b></p>\n",
              "                \n",
              "        <div>\n",
              "            <p><b>SparkContext</b></p>\n",
              "\n",
              "            <p><a href=\"http://e0a32a95011d:4040\">Spark UI</a></p>\n",
              "\n",
              "            <dl>\n",
              "              <dt>Version</dt>\n",
              "                <dd><code>v3.2.1</code></dd>\n",
              "              <dt>Master</dt>\n",
              "                <dd><code>local[*]</code></dd>\n",
              "              <dt>AppName</dt>\n",
              "                <dd><code>pyspark-shell</code></dd>\n",
              "            </dl>\n",
              "        </div>\n",
              "        \n",
              "            </div>\n",
              "        "
            ]
          },
          "metadata": {},
          "execution_count": 5
        }
      ]
    },
    {
      "cell_type": "markdown",
      "source": [
        "Loading data into a Pandas Dataframe then into a Spark DataFrame"
      ],
      "metadata": {
        "id": "w_30nAkPZKQ3"
      }
    },
    {
      "cell_type": "code",
      "source": [
        "all_seasons = pd.read_csv('all_seasons.csv')\n",
        "sdf = spark.createDataFrame(all_seasons) "
      ],
      "metadata": {
        "id": "A4gjUMFQZLEC"
      },
      "execution_count": 6,
      "outputs": []
    },
    {
      "cell_type": "code",
      "source": [
        "sdf.printSchema()"
      ],
      "metadata": {
        "colab": {
          "base_uri": "https://localhost:8080/"
        },
        "id": "QQCGZT1QZl0X",
        "outputId": "9a6a3c10-766c-4125-a13f-3b11405313a3"
      },
      "execution_count": 7,
      "outputs": [
        {
          "output_type": "stream",
          "name": "stdout",
          "text": [
            "root\n",
            " |-- Unnamed: 0: long (nullable = true)\n",
            " |-- player_name: string (nullable = true)\n",
            " |-- team_abbreviation: string (nullable = true)\n",
            " |-- age: double (nullable = true)\n",
            " |-- player_height: double (nullable = true)\n",
            " |-- player_weight: double (nullable = true)\n",
            " |-- college: string (nullable = true)\n",
            " |-- country: string (nullable = true)\n",
            " |-- draft_year: string (nullable = true)\n",
            " |-- draft_round: string (nullable = true)\n",
            " |-- draft_number: string (nullable = true)\n",
            " |-- gp: long (nullable = true)\n",
            " |-- pts: double (nullable = true)\n",
            " |-- reb: double (nullable = true)\n",
            " |-- ast: double (nullable = true)\n",
            " |-- net_rating: double (nullable = true)\n",
            " |-- oreb_pct: double (nullable = true)\n",
            " |-- dreb_pct: double (nullable = true)\n",
            " |-- usg_pct: double (nullable = true)\n",
            " |-- ts_pct: double (nullable = true)\n",
            " |-- ast_pct: double (nullable = true)\n",
            " |-- season: string (nullable = true)\n",
            "\n"
          ]
        }
      ]
    },
    {
      "cell_type": "code",
      "source": [
        "sdf.show(10)"
      ],
      "metadata": {
        "colab": {
          "base_uri": "https://localhost:8080/"
        },
        "id": "EjcTnRgYa4i5",
        "outputId": "bde1378c-71d0-4850-9dfb-1e61f8b62609"
      },
      "execution_count": 8,
      "outputs": [
        {
          "output_type": "stream",
          "name": "stdout",
          "text": [
            "+----------+-----------------+-----------------+----+-------------+-------------+--------------------+-------+----------+-----------+------------+---+----+----+---+----------+--------+------------------+------------------+------------------+-------+-------+\n",
            "|Unnamed: 0|      player_name|team_abbreviation| age|player_height|player_weight|             college|country|draft_year|draft_round|draft_number| gp| pts| reb|ast|net_rating|oreb_pct|          dreb_pct|           usg_pct|            ts_pct|ast_pct| season|\n",
            "+----------+-----------------+-----------------+----+-------------+-------------+--------------------+-------+----------+-----------+------------+---+----+----+---+----------+--------+------------------+------------------+------------------+-------+-------+\n",
            "|         0|    Dennis Rodman|              CHI|36.0|       198.12|     99.79024|Southeastern Okla...|    USA|      1986|          2|          27| 55| 5.7|16.1|3.1|      16.1|   0.186|0.3229999999999999|               0.1|             0.479|  0.113|1996-97|\n",
            "|         1|Dwayne Schintzius|              LAC|28.0|        215.9|    117.93392|             Florida|    USA|      1990|          1|          24| 15| 2.3| 1.5|0.3|      12.3|   0.078|             0.151|             0.175|              0.43|  0.048|1996-97|\n",
            "|         2|     Earl Cureton|              TOR|39.0|       205.74|     95.25432|       Detroit Mercy|    USA|      1979|          3|          58|  9| 0.8| 1.0|0.4|      -2.1|   0.105|             0.102|             0.103|             0.376|  0.148|1996-97|\n",
            "|         3|      Ed O'Bannon|              DAL|24.0|        203.2|   100.697424|                UCLA|    USA|      1995|          1|           9| 64| 3.7| 2.3|0.6|      -8.7|    0.06|             0.149|0.1669999999999999|0.3989999999999999|  0.077|1996-97|\n",
            "|         4|      Ed Pinckney|              MIA|34.0|       205.74|    108.86208|           Villanova|    USA|      1985|          1|          10| 27| 2.4| 2.4|0.2|     -11.2|   0.109|             0.179|             0.127|             0.611|   0.04|1996-97|\n",
            "|         5|    Eddie Johnson|              HOU|38.0|       200.66|     97.52228|            Illinois|    USA|      1981|          2|          29| 52| 8.2| 2.7|1.0|       4.1|   0.034|             0.126|              0.22|             0.541|  0.102|1996-97|\n",
            "|         6|      Eddie Jones|              LAL|25.0|       198.12|     86.18248|              Temple|    USA|      1994|          1|          10| 80|17.2| 4.1|3.4|       4.1|   0.035|             0.091|             0.209|0.5589999999999999|  0.149|1996-97|\n",
            "|         7|   Elden Campbell|              LAL|28.0|       213.36|      113.398|             Clemson|    USA|      1990|          1|          27| 77|14.9| 8.0|1.6|       3.3|   0.095|             0.183|             0.222|              0.52|  0.087|1996-97|\n",
            "|         8|Eldridge Recasner|              ATL|29.0|       193.04|     86.18248|          Washington|    USA|      1992|  Undrafted|   Undrafted| 71| 5.7| 1.6|1.3|      -0.3|   0.036|             0.076|             0.172|             0.539|  0.141|1996-97|\n",
            "|         9|     Elliot Perry|              MIL|28.0|       182.88|     72.57472|             Memphis|    USA|      1991|          2|          37| 82| 6.9| 1.5|3.0|      -1.2|   0.018|             0.081|             0.177|             0.557|  0.262|1996-97|\n",
            "+----------+-----------------+-----------------+----+-------------+-------------+--------------------+-------+----------+-----------+------------+---+----+----+---+----------+--------+------------------+------------------+------------------+-------+-------+\n",
            "only showing top 10 rows\n",
            "\n"
          ]
        }
      ]
    },
    {
      "cell_type": "code",
      "source": [
        "sdf.createOrReplaceTempView(\"allseasons\")"
      ],
      "metadata": {
        "id": "ucZqrA0kuy7T"
      },
      "execution_count": 9,
      "outputs": []
    },
    {
      "cell_type": "markdown",
      "source": [
        "#### Remove all undrafted players"
      ],
      "metadata": {
        "id": "uqnp3juUYMv0"
      }
    },
    {
      "cell_type": "code",
      "source": [
        "spark.sql(\"SELECT * FROM allseasons where draft_round!='Undrafted' OR draft_number!='Undrafted'\").show(10)"
      ],
      "metadata": {
        "colab": {
          "base_uri": "https://localhost:8080/"
        },
        "id": "ZDlatZgrtNCM",
        "outputId": "93321c71-ae9a-4f50-9dac-f90490131e42"
      },
      "execution_count": 10,
      "outputs": [
        {
          "output_type": "stream",
          "name": "stdout",
          "text": [
            "+----------+-----------------+-----------------+----+-------------+-------------+--------------------+-------+----------+-----------+------------+---+----+----+---+----------+--------+------------------+------------------+------------------+-------+-------+\n",
            "|Unnamed: 0|      player_name|team_abbreviation| age|player_height|player_weight|             college|country|draft_year|draft_round|draft_number| gp| pts| reb|ast|net_rating|oreb_pct|          dreb_pct|           usg_pct|            ts_pct|ast_pct| season|\n",
            "+----------+-----------------+-----------------+----+-------------+-------------+--------------------+-------+----------+-----------+------------+---+----+----+---+----------+--------+------------------+------------------+------------------+-------+-------+\n",
            "|         0|    Dennis Rodman|              CHI|36.0|       198.12|     99.79024|Southeastern Okla...|    USA|      1986|          2|          27| 55| 5.7|16.1|3.1|      16.1|   0.186|0.3229999999999999|               0.1|             0.479|  0.113|1996-97|\n",
            "|         1|Dwayne Schintzius|              LAC|28.0|        215.9|    117.93392|             Florida|    USA|      1990|          1|          24| 15| 2.3| 1.5|0.3|      12.3|   0.078|             0.151|             0.175|              0.43|  0.048|1996-97|\n",
            "|         2|     Earl Cureton|              TOR|39.0|       205.74|     95.25432|       Detroit Mercy|    USA|      1979|          3|          58|  9| 0.8| 1.0|0.4|      -2.1|   0.105|             0.102|             0.103|             0.376|  0.148|1996-97|\n",
            "|         3|      Ed O'Bannon|              DAL|24.0|        203.2|   100.697424|                UCLA|    USA|      1995|          1|           9| 64| 3.7| 2.3|0.6|      -8.7|    0.06|             0.149|0.1669999999999999|0.3989999999999999|  0.077|1996-97|\n",
            "|         4|      Ed Pinckney|              MIA|34.0|       205.74|    108.86208|           Villanova|    USA|      1985|          1|          10| 27| 2.4| 2.4|0.2|     -11.2|   0.109|             0.179|             0.127|             0.611|   0.04|1996-97|\n",
            "|         5|    Eddie Johnson|              HOU|38.0|       200.66|     97.52228|            Illinois|    USA|      1981|          2|          29| 52| 8.2| 2.7|1.0|       4.1|   0.034|             0.126|              0.22|             0.541|  0.102|1996-97|\n",
            "|         6|      Eddie Jones|              LAL|25.0|       198.12|     86.18248|              Temple|    USA|      1994|          1|          10| 80|17.2| 4.1|3.4|       4.1|   0.035|             0.091|             0.209|0.5589999999999999|  0.149|1996-97|\n",
            "|         7|   Elden Campbell|              LAL|28.0|       213.36|      113.398|             Clemson|    USA|      1990|          1|          27| 77|14.9| 8.0|1.6|       3.3|   0.095|             0.183|             0.222|              0.52|  0.087|1996-97|\n",
            "|         9|     Elliot Perry|              MIL|28.0|       182.88|     72.57472|             Memphis|    USA|      1991|          2|          37| 82| 6.9| 1.5|3.0|      -1.2|   0.018|             0.081|             0.177|             0.557|  0.262|1996-97|\n",
            "|        10|    Elmer Bennett|              DEN|27.0|       182.88|     77.11064|          Notre Dame|    USA|      1992|          2|          38|  9| 2.4| 0.4|1.2|      -7.4|     0.0|             0.053|             0.187|              0.47|  0.216|1996-97|\n",
            "+----------+-----------------+-----------------+----+-------------+-------------+--------------------+-------+----------+-----------+------------+---+----+----+---+----------+--------+------------------+------------------+------------------+-------+-------+\n",
            "only showing top 10 rows\n",
            "\n"
          ]
        }
      ]
    },
    {
      "cell_type": "markdown",
      "source": [
        "#### Show all players named David"
      ],
      "metadata": {
        "id": "yOgvLvw4YPcD"
      }
    },
    {
      "cell_type": "code",
      "source": [
        "spark.sql(\"SELECT * FROM allseasons where player_name like 'David%'\").show(10)"
      ],
      "metadata": {
        "colab": {
          "base_uri": "https://localhost:8080/"
        },
        "id": "zh-ZorjltOGr",
        "outputId": "54a4346b-fbf1-496d-fae5-dbfbf34d2ac1"
      },
      "execution_count": 11,
      "outputs": [
        {
          "output_type": "stream",
          "name": "stdout",
          "text": [
            "+----------+--------------+-----------------+----+-------------+-------------+-----------+-------+----------+-----------+------------+---+----+----+---+----------+------------------+------------------+------------------+------------------+------------------+-------+\n",
            "|Unnamed: 0|   player_name|team_abbreviation| age|player_height|player_weight|    college|country|draft_year|draft_round|draft_number| gp| pts| reb|ast|net_rating|          oreb_pct|          dreb_pct|           usg_pct|            ts_pct|           ast_pct| season|\n",
            "+----------+--------------+-----------------+----+-------------+-------------+-----------+-------+----------+-----------+------------+---+----+----+---+----------+------------------+------------------+------------------+------------------+------------------+-------+\n",
            "|       110|    David Wood|              MIL|32.0|       205.74|    104.32616|Nevada-Reno|    USA| Undrafted|  Undrafted|   Undrafted| 46| 1.2| 0.6|0.3|       3.9|             0.026|             0.128|               0.1|             0.621|             0.085|1996-97|\n",
            "|       186|David Robinson|              SAS|31.0|        215.9|    106.59412|       Navy|    USA|      1987|          1|           1|  6|17.7| 8.5|1.3|       9.6|             0.161|             0.237|0.3339999999999999|0.5589999999999999|             0.111|1996-97|\n",
            "|       187|  David Vaughn|              ORL|24.0|       205.74|    108.86208|    Memphis|    USA|      1995|          1|          25| 35| 2.3| 2.7|0.2|      -7.5|             0.128|             0.216|             0.172|             0.475|             0.045|1996-97|\n",
            "|       188|  David Wesley|              BOS|26.0|       185.42|    89.811216|     Baylor|    USA| Undrafted|  Undrafted|   Undrafted| 74|16.8| 3.6|7.3|      -7.4|             0.024|             0.084|0.1889999999999999|             0.563|             0.286|1996-97|\n",
            "|       189| David Wingate|              SEA|33.0|       195.58|     83.91452| Georgetown|    USA|      1986|          2|          44| 65| 3.6| 1.1|1.2|       2.8|             0.031|             0.069|             0.134|             0.509|0.1369999999999999|1996-97|\n",
            "|       719|  David Benoit|              ORL|30.0|        203.2|     99.79024|    Alabama|    USA| Undrafted|  Undrafted|   Undrafted| 77| 5.5| 2.6|0.3|      -0.6|0.0559999999999999|             0.153|             0.191|             0.477|             0.037|1997-98|\n",
            "|       721|David Robinson|              SAS|32.0|        215.9|      113.398|       Navy|    USA|      1987|          1|           1| 73|21.6|10.6|2.7|       7.7|             0.121|             0.231|             0.297|             0.581|             0.159|1997-98|\n",
            "|       722|  David Wesley|              CHH|27.0|       185.42|    91.625584|     Baylor|    USA| Undrafted|  Undrafted|   Undrafted| 81|13.0| 2.6|6.5|       2.3|             0.021|             0.069|               0.2|             0.532|             0.303|1997-98|\n",
            "|       723| David Wingate|              SEA|34.0|       195.58|     83.91452| Georgetown|    USA|      1986|          2|          44| 58| 2.6| 1.4|0.6|      -0.7|              0.04|0.1169999999999999|             0.156|             0.494|             0.113|1997-98|\n",
            "|       728|  David Vaughn|              NJN|25.0|       205.74|    108.86208|    Memphis|    USA|      1995|          1|          25| 40| 4.1| 3.8|0.5|     -11.4|             0.111|             0.215|             0.184|              0.48|             0.069|1997-98|\n",
            "+----------+--------------+-----------------+----+-------------+-------------+-----------+-------+----------+-----------+------------+---+----+----+---+----------+------------------+------------------+------------------+------------------+------------------+-------+\n",
            "only showing top 10 rows\n",
            "\n"
          ]
        }
      ]
    },
    {
      "cell_type": "markdown",
      "source": [
        "####  Display the information of players that come from Mexico"
      ],
      "metadata": {
        "id": "Clr77nUdYZTC"
      }
    },
    {
      "cell_type": "code",
      "source": [
        "spark.sql(\"SELECT * FROM allseasons where country = 'Mexico'\").show(10)"
      ],
      "metadata": {
        "colab": {
          "base_uri": "https://localhost:8080/"
        },
        "id": "JGkZPxVatQlj",
        "outputId": "0cfe2d85-4fc0-45fa-8b56-40007b80d81c"
      },
      "execution_count": 12,
      "outputs": [
        {
          "output_type": "stream",
          "name": "stdout",
          "text": [
            "+----------+--------------+-----------------+----+-------------+-------------+--------+-------+----------+-----------+------------+---+---+---+---+----------+--------+--------+-------+------------------+------------------+-------+\n",
            "|Unnamed: 0|   player_name|team_abbreviation| age|player_height|player_weight| college|country|draft_year|draft_round|draft_number| gp|pts|reb|ast|net_rating|oreb_pct|dreb_pct|usg_pct|            ts_pct|           ast_pct| season|\n",
            "+----------+--------------+-----------------+----+-------------+-------------+--------+-------+----------+-----------+------------+---+---+---+---+----------+--------+--------+-------+------------------+------------------+-------+\n",
            "|      1765|Eduardo Najera|              DAL|24.0|        203.2|   106.140528|Oklahoma| Mexico|      2000|          2|          38| 40|3.3|2.4|0.7|      -4.9|   0.107|   0.142|  0.146|             0.522|             0.093|2000-01|\n",
            "|      2624|Eduardo Najera|              DAL|25.0|        203.2|   106.140528|Oklahoma| Mexico|      2000|          2|          38| 62|6.5|5.5|0.6|      12.1|   0.123|   0.159|  0.132|0.5479999999999999|             0.039|2001-02|\n",
            "|      2825|Eduardo Najera|              DAL|26.0|        203.2|    106.59412|Oklahoma| Mexico|      2000|          2|          38| 48|6.7|4.6|1.0|      13.9|   0.092|    0.13|  0.121|              0.59|              0.06|2002-03|\n",
            "|      3455|Eduardo Najera|              DAL|27.0|        203.2|    106.59412|Oklahoma| Mexico|      2000|          2|          38| 58|3.0|2.7|0.4|       5.4|   0.095|   0.135|  0.129|             0.483|             0.051|2003-04|\n",
            "|      3942|Eduardo Najera|              DEN|28.0|        203.2|    106.59412|Oklahoma| Mexico|      2000|          2|          38| 68|5.2|3.6|1.0|       2.8|   0.092|    0.14|  0.158|             0.489|             0.084|2004-05|\n",
            "|      4419|Eduardo Najera|              DEN|29.0|        203.2|     99.79024|Oklahoma| Mexico|      2000|          2|          38| 64|5.4|5.1|0.8|       0.7|   0.099|   0.161|  0.123|             0.494|             0.054|2005-06|\n",
            "|      4433|Eduardo Najera|              DEN|30.0|        203.2|    106.59412|Oklahoma| Mexico|      2000|          2|          38| 75|6.6|4.1|0.9|       0.9|   0.091|   0.124|   0.12|             0.609|0.0559999999999999|2006-07|\n",
            "|      4900|Eduardo Najera|              DEN|31.0|        203.2|    106.59412|Oklahoma| Mexico|      2000|          2|          38| 78|5.9|4.3|1.2|       9.7|   0.074|   0.143|  0.119|              0.57|             0.079|2007-08|\n",
            "|      5350|Eduardo Najera|              NJN|32.0|        203.2|    106.59412|Oklahoma| Mexico|      2000|          2|          38| 27|2.9|2.5|0.7|     -15.0|   0.059|    0.19|  0.152|             0.472|              0.11|2008-09|\n",
            "|      5930|Eduardo Najera|              DAL|33.0|        203.2|    106.59412|Oklahoma| Mexico|      2000|          2|          38| 46|3.4|2.5|0.6|      -3.1|   0.054|   0.143|  0.121|             0.501|             0.061|2009-10|\n",
            "+----------+--------------+-----------------+----+-------------+-------------+--------+-------+----------+-----------+------------+---+---+---+---+----------+--------+--------+-------+------------------+------------------+-------+\n",
            "only showing top 10 rows\n",
            "\n"
          ]
        }
      ]
    },
    {
      "cell_type": "markdown",
      "source": [
        "#### Show the tallest 3 players, displaying their height in meters"
      ],
      "metadata": {
        "id": "iOVwN39ZYU-C"
      }
    },
    {
      "cell_type": "code",
      "source": [
        "# import the Pandas UDF function \n",
        "from pyspark.sql.functions import pandas_udf, PandasUDFType"
      ],
      "metadata": {
        "id": "x5Tsgep6zvtt"
      },
      "execution_count": 13,
      "outputs": []
    },
    {
      "cell_type": "code",
      "source": [
        "@pandas_udf(\"float\")\n",
        "def convert_ht(s: pd.Series) -> pd.Series:\n",
        "    # The formula for converting from imperial to metric tons\n",
        "    return s/100\n",
        "\n",
        "spark.udf.register(\"convert_height\", convert_ht)"
      ],
      "metadata": {
        "colab": {
          "base_uri": "https://localhost:8080/"
        },
        "id": "Jm_mdefLzx1U",
        "outputId": "d865e962-285f-4e06-b384-4215ad0ce029"
      },
      "execution_count": 14,
      "outputs": [
        {
          "output_type": "execute_result",
          "data": {
            "text/plain": [
              "<function __main__.convert_ht>"
            ]
          },
          "metadata": {},
          "execution_count": 14
        }
      ]
    },
    {
      "cell_type": "code",
      "source": [
        "sdf1 = spark.sql(\"SELECT *, convert_height(player_height) as player_height_meters FROM allseasons ORDER BY player_height_meters DESC\")\n",
        "sdf1.show(10)"
      ],
      "metadata": {
        "colab": {
          "base_uri": "https://localhost:8080/"
        },
        "id": "dMiRbhmjz1hs",
        "outputId": "720638b0-9e50-40af-91d1-a1fb861c5feb"
      },
      "execution_count": 15,
      "outputs": [
        {
          "output_type": "stream",
          "name": "stdout",
          "text": [
            "+----------+----------------+-----------------+----+-------------+-------------+-------------+-------+----------+-----------+------------+---+----+---+---+----------+--------+------------------+------------------+------+------------------+-------+--------------------+\n",
            "|Unnamed: 0|     player_name|team_abbreviation| age|player_height|player_weight|      college|country|draft_year|draft_round|draft_number| gp| pts|reb|ast|net_rating|oreb_pct|          dreb_pct|           usg_pct|ts_pct|           ast_pct| season|player_height_meters|\n",
            "+----------+----------------+-----------------+----+-------------+-------------+-------------+-------+----------+-----------+------------+---+----+---+---+----------+--------+------------------+------------------+------+------------------+-------+--------------------+\n",
            "|      1408|Gheorghe Muresan|              NJN|29.0|       231.14|   137.438376|         None|    USA|      1993|          2|          30| 30| 3.5|2.3|0.3|       4.8|   0.103|             0.163|0.2019999999999999| 0.492|0.0559999999999999|1999-00|              2.3114|\n",
            "|      1212|Gheorghe Muresan|              NJN|28.0|       231.14|   137.438376|         None|    USA|      1993|          2|          30|  1| 0.0|0.0|0.0|    -200.0|     0.0|               0.0|               1.0|   0.0|               0.0|1998-99|              2.3114|\n",
            "|        92|Gheorghe Muresan|              WAS|26.0|       231.14|   137.438376|         None|    USA|      1993|          2|          30| 73|10.6|6.6|0.4|       6.9|   0.098|             0.217|             0.185| 0.618|             0.024|1996-97|              2.3114|\n",
            "|      1558|   Shawn Bradley|              DAL|28.0|        228.6|   119.294696|Brigham Young|    USA|      1993|          1|           2| 77| 8.4|6.5|0.8|       2.6|   0.093|             0.179|             0.165| 0.521|             0.049|1999-00|               2.286|\n",
            "|      2186|   Shawn Bradley|              DAL|29.0|        228.6|    120.20188|Brigham Young|    USA|      1993|          1|           2| 82| 7.1|7.4|0.5|      10.4|   0.092|             0.228|             0.143| 0.551|0.0289999999999999|2000-01|               2.286|\n",
            "|      1053|   Shawn Bradley|              DAL|27.0|        228.6|   119.294696|Brigham Young|    USA|      1993|          1|           2| 49| 8.6|8.0|0.8|       5.4|   0.114|             0.226|0.1639999999999999| 0.527|             0.051|1998-99|               2.286|\n",
            "|      3211|        Yao Ming|              HOU|23.0|        228.6|    140.61352|         None|  China|      2002|          1|           1| 82|17.5|9.0|1.5|       3.6|   0.093|              0.22|             0.252| 0.586|              0.09|2003-04|               2.286|\n",
            "|       242|   Shawn Bradley|              DAL|25.0|        228.6|   112.490816|Brigham Young|    USA|      1993|          1|           2| 73|13.2|8.4|0.7|      -5.9|   0.102|0.1969999999999999|0.2239999999999999| 0.478|             0.042|1996-97|               2.286|\n",
            "|      2415|   Shawn Bradley|              DAL|30.0|        228.6|    120.20188|Brigham Young|    USA|      1993|          1|           2| 53| 4.1|3.3|0.4|       6.2|   0.084|             0.176|             0.136| 0.562|              0.04|2001-02|               2.286|\n",
            "|      2638|   Shawn Bradley|              DAL|31.0|        228.6|     124.7378|Brigham Young|    USA|      1993|          1|           2| 81| 6.7|5.9|0.7|      10.0|   0.098|             0.204|             0.138| 0.601|             0.047|2002-03|               2.286|\n",
            "+----------+----------------+-----------------+----+-------------+-------------+-------------+-------+----------+-----------+------------+---+----+---+---+----------+--------+------------------+------------------+------+------------------+-------+--------------------+\n",
            "only showing top 10 rows\n",
            "\n"
          ]
        }
      ]
    },
    {
      "cell_type": "markdown",
      "source": [
        "#### Calculate the BMI of each player, insert into the collection as a new column, then display the players according to their BMI descendingly"
      ],
      "metadata": {
        "id": "7q78fWJYYciq"
      }
    },
    {
      "cell_type": "code",
      "source": [
        "spark.catalog.dropTempView(\"allseasons\")\n",
        "sdf1.createOrReplaceTempView(\"allseasons\")"
      ],
      "metadata": {
        "id": "jPVmYTSxCtVp"
      },
      "execution_count": 17,
      "outputs": []
    },
    {
      "cell_type": "code",
      "source": [
        "@pandas_udf(\"float\")\n",
        "def calc_bmi(w: pd.Series,h: pd.Series) -> pd.Series:\n",
        "    # The formula for converting from imperial to metric tons\n",
        "    return w/(h**2)\n",
        "\n",
        "spark.udf.register(\"bmi_cal\", calc_bmi)"
      ],
      "metadata": {
        "colab": {
          "base_uri": "https://localhost:8080/"
        },
        "id": "T9tEKpIvtRv6",
        "outputId": "4e0d8053-b6c2-4f3a-fedf-b7766783dae1"
      },
      "execution_count": 18,
      "outputs": [
        {
          "output_type": "execute_result",
          "data": {
            "text/plain": [
              "<function __main__.calc_bmi>"
            ]
          },
          "metadata": {},
          "execution_count": 18
        }
      ]
    },
    {
      "cell_type": "code",
      "source": [
        "spark.sql(\"SELECT *, bmi_cal(player_weight,allseasons.player_height_meters) as bmi FROM allseasons ORDER BY bmi DESC\").show(10)"
      ],
      "metadata": {
        "colab": {
          "base_uri": "https://localhost:8080/"
        },
        "id": "3JZpnijH3hme",
        "outputId": "aa6f4e16-8ebe-4655-bffd-9174770512bf"
      },
      "execution_count": 19,
      "outputs": [
        {
          "output_type": "stream",
          "name": "stdout",
          "text": [
            "+----------+----------------+-----------------+----+-------------+-------------+----------------+-------+----------+-----------+------------+---+----+----+---+----------+------------------+------------------+------------------+------------------+------------------+-------+--------------------+---------+\n",
            "|Unnamed: 0|     player_name|team_abbreviation| age|player_height|player_weight|         college|country|draft_year|draft_round|draft_number| gp| pts| reb|ast|net_rating|          oreb_pct|          dreb_pct|           usg_pct|            ts_pct|           ast_pct| season|player_height_meters|      bmi|\n",
            "+----------+----------------+-----------------+----+-------------+-------------+----------------+-------+----------+-----------+------------+---+----+----+---+----------+------------------+------------------+------------------+------------------+------------------+-------+--------------------+---------+\n",
            "|       480|   Oliver Miller|              TOR|28.0|       205.74|     147.4174|        Arkansas|    USA|      1992|          1|          22| 64| 6.3| 6.3|3.1|      -9.9|             0.099|             0.177|             0.149|             0.485|             0.187|1997-98|              2.0574|34.826614|\n",
            "|      1161|   Oliver Miller|              SAC|29.0|       205.74|     147.4174|        Arkansas|    USA|      1992|          1|          22|  4| 2.5| 2.0|0.0|     -18.8|0.1939999999999999|             0.038|             0.177|             0.455|               0.0|1998-99|              2.0574|34.826614|\n",
            "|      1711|   Oliver Miller|              PHX|30.0|       205.74|    142.88148|        Arkansas|    USA|      1992|          1|          22| 51| 6.3| 5.1|1.3|       6.0|             0.093|0.1669999999999999|0.1369999999999999|             0.609|             0.095|1999-00|              2.0574|33.755028|\n",
            "|      3110|   Oliver Miller|              MIN|34.0|       205.74|    142.88148|        Arkansas|    USA|      1992|          1|          22| 48| 2.5| 2.7|0.8|       0.6|             0.115|              0.18|             0.135|0.5489999999999999|             0.115|2003-04|              2.0574|33.755028|\n",
            "|       406|   Oliver Miller|              TOR|27.0|       205.74|    140.61352|        Arkansas|    USA|      1992|          1|          22| 61| 4.8| 5.0|1.4|      -1.0|             0.107|             0.204|             0.141|             0.539|0.1159999999999999|1996-97|              2.0574|33.219234|\n",
            "|      3268|Shaquille O'Neal|              LAL|32.0|        215.9|    154.22128| Louisiana State|    USA|      1992|          1|           1| 67|21.5|11.5|2.9|       8.3|             0.114|0.2319999999999999|              0.26|             0.578|              0.14|2003-04|               2.159|  33.0856|\n",
            "|     10979| Zion Williamson|              NOP|19.0|       198.12|   128.820128|            Duke|    USA|      2019|          1|           1| 18|23.6| 6.8|2.2|       9.6|             0.096|             0.113|             0.285|             0.623|0.1159999999999999|2019-20|              1.9812|32.819134|\n",
            "|      2866|Shaquille O'Neal|              LAL|31.0|        215.9|    151.95332| Louisiana State|    USA|      1992|          1|           1| 67|27.5|11.1|3.1|       6.9|              0.12|             0.214|             0.303|             0.602|              0.15|2002-03|               2.159| 32.59905|\n",
            "|      8472|     Sim Bhullar|              SAC|22.0|       226.06|    163.29312|New Mexico State| Canada| Undrafted|  Undrafted|   Undrafted|  3| 0.7| 0.3|0.3|      34.7|               0.0|0.3329999999999999|              0.45|               0.5|               0.5|2014-15|              2.2606|31.953644|\n",
            "|      4536|      James Lang|              WAS|23.0|       208.28|    138.34556|            None|    USA|      2003|          2|          48| 11| 1.0| 1.0|0.2|      -0.3|             0.104|             0.109|             0.115|             0.491|             0.054|2006-07|              2.0828|31.891146|\n",
            "+----------+----------------+-----------------+----+-------------+-------------+----------------+-------+----------+-----------+------------+---+----+----+---+----------+------------------+------------------+------------------+------------------+------------------+-------+--------------------+---------+\n",
            "only showing top 10 rows\n",
            "\n"
          ]
        }
      ]
    },
    {
      "cell_type": "markdown",
      "source": [
        "#### Display the number of players from each country, showing the 5 least present countries"
      ],
      "metadata": {
        "id": "rLl1bvpqYhci"
      }
    },
    {
      "cell_type": "code",
      "source": [
        "spark.sql(\"SELECT count(*) as num_of_players, country from allseasons GROUP BY country ORDER BY num_of_players ASC\").show(5)"
      ],
      "metadata": {
        "id": "xTu93XwntSva",
        "colab": {
          "base_uri": "https://localhost:8080/"
        },
        "outputId": "8d98c08a-c3c0-4aaa-9b58-d4648d1bbdf1"
      },
      "execution_count": 21,
      "outputs": [
        {
          "output_type": "stream",
          "name": "stdout",
          "text": [
            "+--------------+-------------------+\n",
            "|num_of_players|            country|\n",
            "+--------------+-------------------+\n",
            "|             1|         Sudan (UK)|\n",
            "|             1|              Ghana|\n",
            "|             1|              Sudan|\n",
            "|             1|             Angola|\n",
            "|             1|Trinidad and Tobago|\n",
            "+--------------+-------------------+\n",
            "only showing top 5 rows\n",
            "\n"
          ]
        }
      ]
    }
  ]
}