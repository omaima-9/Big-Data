{
  "nbformat": 4,
  "nbformat_minor": 0,
  "metadata": {
    "colab": {
      "name": "Dataframes_Solution.ipynb",
      "provenance": []
    },
    "kernelspec": {
      "name": "python3",
      "display_name": "Python 3"
    },
    "language_info": {
      "name": "python"
    }
  },
  "cells": [
    {
      "cell_type": "code",
      "source": [
        "# Installing required packages\n",
        "!pip install pyspark\n",
        "!pip install findspark\n",
        "!pip install pandas"
      ],
      "metadata": {
        "colab": {
          "base_uri": "https://localhost:8080/"
        },
        "id": "Unjmt2jDY57b",
        "outputId": "4a750eb2-6291-48cb-d236-0daf06c4b180"
      },
      "execution_count": 1,
      "outputs": [
        {
          "output_type": "stream",
          "name": "stdout",
          "text": [
            "Collecting pyspark\n",
            "  Downloading pyspark-3.2.1.tar.gz (281.4 MB)\n",
            "\u001b[K     |████████████████████████████████| 281.4 MB 33 kB/s \n",
            "\u001b[?25hCollecting py4j==0.10.9.3\n",
            "  Downloading py4j-0.10.9.3-py2.py3-none-any.whl (198 kB)\n",
            "\u001b[K     |████████████████████████████████| 198 kB 51.8 MB/s \n",
            "\u001b[?25hBuilding wheels for collected packages: pyspark\n",
            "  Building wheel for pyspark (setup.py) ... \u001b[?25l\u001b[?25hdone\n",
            "  Created wheel for pyspark: filename=pyspark-3.2.1-py2.py3-none-any.whl size=281853642 sha256=53f0264a0e5b952f232be3112382a0417def30ad67065d8685b3a4249fbf85a5\n",
            "  Stored in directory: /root/.cache/pip/wheels/9f/f5/07/7cd8017084dce4e93e84e92efd1e1d5334db05f2e83bcef74f\n",
            "Successfully built pyspark\n",
            "Installing collected packages: py4j, pyspark\n",
            "Successfully installed py4j-0.10.9.3 pyspark-3.2.1\n",
            "Collecting findspark\n",
            "  Downloading findspark-2.0.1-py2.py3-none-any.whl (4.4 kB)\n",
            "Installing collected packages: findspark\n",
            "Successfully installed findspark-2.0.1\n",
            "Requirement already satisfied: pandas in /usr/local/lib/python3.7/dist-packages (1.3.5)\n",
            "Requirement already satisfied: numpy>=1.17.3 in /usr/local/lib/python3.7/dist-packages (from pandas) (1.21.6)\n",
            "Requirement already satisfied: python-dateutil>=2.7.3 in /usr/local/lib/python3.7/dist-packages (from pandas) (2.8.2)\n",
            "Requirement already satisfied: pytz>=2017.3 in /usr/local/lib/python3.7/dist-packages (from pandas) (2022.1)\n",
            "Requirement already satisfied: six>=1.5 in /usr/local/lib/python3.7/dist-packages (from python-dateutil>=2.7.3->pandas) (1.15.0)\n"
          ]
        }
      ]
    },
    {
      "cell_type": "code",
      "source": [
        "import findspark\n",
        "findspark.init()"
      ],
      "metadata": {
        "id": "rpgCzdWxY8hD"
      },
      "execution_count": 2,
      "outputs": []
    },
    {
      "cell_type": "code",
      "source": [
        "import pandas as pd\n",
        "from pyspark import SparkContext, SparkConf\n",
        "from pyspark.sql import SparkSession"
      ],
      "metadata": {
        "id": "i_XKKeYzY9DS"
      },
      "execution_count": 3,
      "outputs": []
    },
    {
      "cell_type": "code",
      "source": [
        "# Creating a spark context class\n",
        "sc = SparkContext()\n",
        "\n",
        "# Creating a spark session\n",
        "spark = SparkSession \\\n",
        "    .builder \\\n",
        "    .appName(\"Python Spark DataFrames basic example\") \\\n",
        "    .config(\"spark.some.config.option\", \"some-value\") \\\n",
        "    .getOrCreate()"
      ],
      "metadata": {
        "id": "1QLG7ayvZBVq"
      },
      "execution_count": 4,
      "outputs": []
    },
    {
      "cell_type": "code",
      "source": [
        "spark"
      ],
      "metadata": {
        "colab": {
          "base_uri": "https://localhost:8080/",
          "height": 219
        },
        "id": "Tvo5E2WMZEKS",
        "outputId": "c9005c9f-87a2-440e-e28a-7ebbea3b7ad4"
      },
      "execution_count": 5,
      "outputs": [
        {
          "output_type": "execute_result",
          "data": {
            "text/plain": [
              "<pyspark.sql.session.SparkSession at 0x7f138004a850>"
            ],
            "text/html": [
              "\n",
              "            <div>\n",
              "                <p><b>SparkSession - in-memory</b></p>\n",
              "                \n",
              "        <div>\n",
              "            <p><b>SparkContext</b></p>\n",
              "\n",
              "            <p><a href=\"http://412ad8c1089c:4040\">Spark UI</a></p>\n",
              "\n",
              "            <dl>\n",
              "              <dt>Version</dt>\n",
              "                <dd><code>v3.2.1</code></dd>\n",
              "              <dt>Master</dt>\n",
              "                <dd><code>local[*]</code></dd>\n",
              "              <dt>AppName</dt>\n",
              "                <dd><code>pyspark-shell</code></dd>\n",
              "            </dl>\n",
              "        </div>\n",
              "        \n",
              "            </div>\n",
              "        "
            ]
          },
          "metadata": {},
          "execution_count": 5
        }
      ]
    },
    {
      "cell_type": "markdown",
      "source": [
        "Loading data into a Pandas Dataframe then into a Spark DataFrame"
      ],
      "metadata": {
        "id": "w_30nAkPZKQ3"
      }
    },
    {
      "cell_type": "code",
      "source": [
        "all_seasons = pd.read_csv('all_seasons.csv')\n",
        "sdf = spark.createDataFrame(all_seasons) "
      ],
      "metadata": {
        "id": "A4gjUMFQZLEC"
      },
      "execution_count": 41,
      "outputs": []
    },
    {
      "cell_type": "code",
      "source": [
        "sdf.printSchema()"
      ],
      "metadata": {
        "colab": {
          "base_uri": "https://localhost:8080/"
        },
        "id": "QQCGZT1QZl0X",
        "outputId": "e4bc9213-026c-426e-97cb-c8ab05c312d6"
      },
      "execution_count": 7,
      "outputs": [
        {
          "output_type": "stream",
          "name": "stdout",
          "text": [
            "root\n",
            " |-- Unnamed: 0: long (nullable = true)\n",
            " |-- player_name: string (nullable = true)\n",
            " |-- team_abbreviation: string (nullable = true)\n",
            " |-- age: double (nullable = true)\n",
            " |-- player_height: double (nullable = true)\n",
            " |-- player_weight: double (nullable = true)\n",
            " |-- college: string (nullable = true)\n",
            " |-- country: string (nullable = true)\n",
            " |-- draft_year: string (nullable = true)\n",
            " |-- draft_round: string (nullable = true)\n",
            " |-- draft_number: string (nullable = true)\n",
            " |-- gp: long (nullable = true)\n",
            " |-- pts: double (nullable = true)\n",
            " |-- reb: double (nullable = true)\n",
            " |-- ast: double (nullable = true)\n",
            " |-- net_rating: double (nullable = true)\n",
            " |-- oreb_pct: double (nullable = true)\n",
            " |-- dreb_pct: double (nullable = true)\n",
            " |-- usg_pct: double (nullable = true)\n",
            " |-- ts_pct: double (nullable = true)\n",
            " |-- ast_pct: double (nullable = true)\n",
            " |-- season: string (nullable = true)\n",
            "\n"
          ]
        }
      ]
    },
    {
      "cell_type": "code",
      "source": [
        "sdf.show(10)"
      ],
      "metadata": {
        "colab": {
          "base_uri": "https://localhost:8080/"
        },
        "id": "EjcTnRgYa4i5",
        "outputId": "88096ce0-f43a-4aca-e73c-5739baaacda5"
      },
      "execution_count": 42,
      "outputs": [
        {
          "output_type": "stream",
          "name": "stdout",
          "text": [
            "+----------+-----------------+-----------------+----+-------------+-------------+--------------------+-------+----------+-----------+------------+---+----+----+---+----------+--------+------------------+------------------+------------------+-------+-------+\n",
            "|Unnamed: 0|      player_name|team_abbreviation| age|player_height|player_weight|             college|country|draft_year|draft_round|draft_number| gp| pts| reb|ast|net_rating|oreb_pct|          dreb_pct|           usg_pct|            ts_pct|ast_pct| season|\n",
            "+----------+-----------------+-----------------+----+-------------+-------------+--------------------+-------+----------+-----------+------------+---+----+----+---+----------+--------+------------------+------------------+------------------+-------+-------+\n",
            "|         0|    Dennis Rodman|              CHI|36.0|       198.12|     99.79024|Southeastern Okla...|    USA|      1986|          2|          27| 55| 5.7|16.1|3.1|      16.1|   0.186|0.3229999999999999|               0.1|             0.479|  0.113|1996-97|\n",
            "|         1|Dwayne Schintzius|              LAC|28.0|        215.9|    117.93392|             Florida|    USA|      1990|          1|          24| 15| 2.3| 1.5|0.3|      12.3|   0.078|             0.151|             0.175|              0.43|  0.048|1996-97|\n",
            "|         2|     Earl Cureton|              TOR|39.0|       205.74|     95.25432|       Detroit Mercy|    USA|      1979|          3|          58|  9| 0.8| 1.0|0.4|      -2.1|   0.105|             0.102|             0.103|             0.376|  0.148|1996-97|\n",
            "|         3|      Ed O'Bannon|              DAL|24.0|        203.2|   100.697424|                UCLA|    USA|      1995|          1|           9| 64| 3.7| 2.3|0.6|      -8.7|    0.06|             0.149|0.1669999999999999|0.3989999999999999|  0.077|1996-97|\n",
            "|         4|      Ed Pinckney|              MIA|34.0|       205.74|    108.86208|           Villanova|    USA|      1985|          1|          10| 27| 2.4| 2.4|0.2|     -11.2|   0.109|             0.179|             0.127|             0.611|   0.04|1996-97|\n",
            "|         5|    Eddie Johnson|              HOU|38.0|       200.66|     97.52228|            Illinois|    USA|      1981|          2|          29| 52| 8.2| 2.7|1.0|       4.1|   0.034|             0.126|              0.22|             0.541|  0.102|1996-97|\n",
            "|         6|      Eddie Jones|              LAL|25.0|       198.12|     86.18248|              Temple|    USA|      1994|          1|          10| 80|17.2| 4.1|3.4|       4.1|   0.035|             0.091|             0.209|0.5589999999999999|  0.149|1996-97|\n",
            "|         7|   Elden Campbell|              LAL|28.0|       213.36|      113.398|             Clemson|    USA|      1990|          1|          27| 77|14.9| 8.0|1.6|       3.3|   0.095|             0.183|             0.222|              0.52|  0.087|1996-97|\n",
            "|         8|Eldridge Recasner|              ATL|29.0|       193.04|     86.18248|          Washington|    USA|      1992|  Undrafted|   Undrafted| 71| 5.7| 1.6|1.3|      -0.3|   0.036|             0.076|             0.172|             0.539|  0.141|1996-97|\n",
            "|         9|     Elliot Perry|              MIL|28.0|       182.88|     72.57472|             Memphis|    USA|      1991|          2|          37| 82| 6.9| 1.5|3.0|      -1.2|   0.018|             0.081|             0.177|             0.557|  0.262|1996-97|\n",
            "+----------+-----------------+-----------------+----+-------------+-------------+--------------------+-------+----------+-----------+------------+---+----+----+---+----------+--------+------------------+------------------+------------------+-------+-------+\n",
            "only showing top 10 rows\n",
            "\n"
          ]
        }
      ]
    },
    {
      "cell_type": "markdown",
      "source": [
        "#### Remove all undrafted players"
      ],
      "metadata": {
        "id": "uqnp3juUYMv0"
      }
    },
    {
      "cell_type": "code",
      "execution_count": 43,
      "metadata": {
        "colab": {
          "base_uri": "https://localhost:8080/"
        },
        "id": "XOiXd629TQOh",
        "outputId": "d952dbb1-29be-4c39-f6f5-090e66185ad4"
      },
      "outputs": [
        {
          "output_type": "stream",
          "name": "stdout",
          "text": [
            "+----------+-----------------+-----------------+----+-------------+-------------+--------------------+-------+----------+-----------+------------+---+----+----+---+----------+--------+------------------+------------------+------------------+-------+-------+\n",
            "|Unnamed: 0|      player_name|team_abbreviation| age|player_height|player_weight|             college|country|draft_year|draft_round|draft_number| gp| pts| reb|ast|net_rating|oreb_pct|          dreb_pct|           usg_pct|            ts_pct|ast_pct| season|\n",
            "+----------+-----------------+-----------------+----+-------------+-------------+--------------------+-------+----------+-----------+------------+---+----+----+---+----------+--------+------------------+------------------+------------------+-------+-------+\n",
            "|         0|    Dennis Rodman|              CHI|36.0|       198.12|     99.79024|Southeastern Okla...|    USA|      1986|          2|          27| 55| 5.7|16.1|3.1|      16.1|   0.186|0.3229999999999999|               0.1|             0.479|  0.113|1996-97|\n",
            "|         1|Dwayne Schintzius|              LAC|28.0|        215.9|    117.93392|             Florida|    USA|      1990|          1|          24| 15| 2.3| 1.5|0.3|      12.3|   0.078|             0.151|             0.175|              0.43|  0.048|1996-97|\n",
            "|         2|     Earl Cureton|              TOR|39.0|       205.74|     95.25432|       Detroit Mercy|    USA|      1979|          3|          58|  9| 0.8| 1.0|0.4|      -2.1|   0.105|             0.102|             0.103|             0.376|  0.148|1996-97|\n",
            "|         3|      Ed O'Bannon|              DAL|24.0|        203.2|   100.697424|                UCLA|    USA|      1995|          1|           9| 64| 3.7| 2.3|0.6|      -8.7|    0.06|             0.149|0.1669999999999999|0.3989999999999999|  0.077|1996-97|\n",
            "|         4|      Ed Pinckney|              MIA|34.0|       205.74|    108.86208|           Villanova|    USA|      1985|          1|          10| 27| 2.4| 2.4|0.2|     -11.2|   0.109|             0.179|             0.127|             0.611|   0.04|1996-97|\n",
            "|         5|    Eddie Johnson|              HOU|38.0|       200.66|     97.52228|            Illinois|    USA|      1981|          2|          29| 52| 8.2| 2.7|1.0|       4.1|   0.034|             0.126|              0.22|             0.541|  0.102|1996-97|\n",
            "|         6|      Eddie Jones|              LAL|25.0|       198.12|     86.18248|              Temple|    USA|      1994|          1|          10| 80|17.2| 4.1|3.4|       4.1|   0.035|             0.091|             0.209|0.5589999999999999|  0.149|1996-97|\n",
            "|         7|   Elden Campbell|              LAL|28.0|       213.36|      113.398|             Clemson|    USA|      1990|          1|          27| 77|14.9| 8.0|1.6|       3.3|   0.095|             0.183|             0.222|              0.52|  0.087|1996-97|\n",
            "|         9|     Elliot Perry|              MIL|28.0|       182.88|     72.57472|             Memphis|    USA|      1991|          2|          37| 82| 6.9| 1.5|3.0|      -1.2|   0.018|             0.081|             0.177|             0.557|  0.262|1996-97|\n",
            "|        10|    Elmer Bennett|              DEN|27.0|       182.88|     77.11064|          Notre Dame|    USA|      1992|          2|          38|  9| 2.4| 0.4|1.2|      -7.4|     0.0|             0.053|             0.187|              0.47|  0.216|1996-97|\n",
            "+----------+-----------------+-----------------+----+-------------+-------------+--------------------+-------+----------+-----------+------------+---+----+----+---+----------+--------+------------------+------------------+------------------+-------+-------+\n",
            "only showing top 10 rows\n",
            "\n"
          ]
        }
      ],
      "source": [
        "sdf1 = sdf.filter((sdf.draft_round != 'Undrafted') | (sdf.draft_number != 'Undrafted'))\n",
        "sdf1.show(10)"
      ]
    },
    {
      "cell_type": "markdown",
      "source": [
        "#### Show all players named David"
      ],
      "metadata": {
        "id": "yOgvLvw4YPcD"
      }
    },
    {
      "cell_type": "code",
      "source": [
        "sdf1.filter(sdf.player_name.like('David%')).show(10)"
      ],
      "metadata": {
        "colab": {
          "base_uri": "https://localhost:8080/"
        },
        "id": "Qs6xfhjZYVj7",
        "outputId": "7fcd8397-823a-4224-a745-ea3c6f15cace"
      },
      "execution_count": 44,
      "outputs": [
        {
          "output_type": "stream",
          "name": "stdout",
          "text": [
            "+----------+--------------+-----------------+----+-------------+-------------+----------+-------+----------+-----------+------------+---+----+----+---+----------+--------+------------------+------------------+------------------+------------------+-------+\n",
            "|Unnamed: 0|   player_name|team_abbreviation| age|player_height|player_weight|   college|country|draft_year|draft_round|draft_number| gp| pts| reb|ast|net_rating|oreb_pct|          dreb_pct|           usg_pct|            ts_pct|           ast_pct| season|\n",
            "+----------+--------------+-----------------+----+-------------+-------------+----------+-------+----------+-----------+------------+---+----+----+---+----------+--------+------------------+------------------+------------------+------------------+-------+\n",
            "|       186|David Robinson|              SAS|31.0|        215.9|    106.59412|      Navy|    USA|      1987|          1|           1|  6|17.7| 8.5|1.3|       9.6|   0.161|             0.237|0.3339999999999999|0.5589999999999999|             0.111|1996-97|\n",
            "|       187|  David Vaughn|              ORL|24.0|       205.74|    108.86208|   Memphis|    USA|      1995|          1|          25| 35| 2.3| 2.7|0.2|      -7.5|   0.128|             0.216|             0.172|             0.475|             0.045|1996-97|\n",
            "|       189| David Wingate|              SEA|33.0|       195.58|     83.91452|Georgetown|    USA|      1986|          2|          44| 65| 3.6| 1.1|1.2|       2.8|   0.031|             0.069|             0.134|             0.509|0.1369999999999999|1996-97|\n",
            "|       721|David Robinson|              SAS|32.0|        215.9|      113.398|      Navy|    USA|      1987|          1|           1| 73|21.6|10.6|2.7|       7.7|   0.121|             0.231|             0.297|             0.581|             0.159|1997-98|\n",
            "|       723| David Wingate|              SEA|34.0|       195.58|     83.91452|Georgetown|    USA|      1986|          2|          44| 58| 2.6| 1.4|0.6|      -0.7|    0.04|0.1169999999999999|             0.156|             0.494|             0.113|1997-98|\n",
            "|       728|  David Vaughn|              NJN|25.0|       205.74|    108.86208|   Memphis|    USA|      1995|          1|          25| 40| 4.1| 3.8|0.5|     -11.4|   0.111|             0.215|             0.184|              0.48|             0.069|1997-98|\n",
            "|       942|David Robinson|              SAS|33.0|        215.9|      113.398|      Navy|    USA|      1987|          1|           1| 49|15.8|10.0|2.1|      11.2|   0.113|             0.235|              0.24|             0.564|              0.12|1998-99|\n",
            "|       943|  David Vaughn|              NJN|26.0|       205.74|    108.86208|   Memphis|    USA|      1995|          1|          25| 10| 3.4| 3.4|0.1|       3.3|   0.155|             0.196|             0.174|             0.599|             0.015|1998-99|\n",
            "|      1060| David Wingate|              NYK|35.0|       195.58|    84.821704|Georgetown|    USA|      1986|          2|          44| 20| 0.7| 0.4|0.3|      14.4|   0.038|             0.072|              0.11|0.4379999999999999|             0.086|1998-99|\n",
            "|      1349| David Wingate|              NYK|36.0|       195.58|     83.91452|Georgetown|    USA|      1986|          2|          44|  7| 0.3| 0.3|0.4|     -29.0|   0.033|             0.031|             0.145|             0.111|             0.188|1999-00|\n",
            "+----------+--------------+-----------------+----+-------------+-------------+----------+-------+----------+-----------+------------+---+----+----+---+----------+--------+------------------+------------------+------------------+------------------+-------+\n",
            "only showing top 10 rows\n",
            "\n"
          ]
        }
      ]
    },
    {
      "cell_type": "markdown",
      "source": [
        "#### Show the tallest 3 players, displaying their height in meters"
      ],
      "metadata": {
        "id": "iOVwN39ZYU-C"
      }
    },
    {
      "cell_type": "code",
      "source": [
        "sdf2 = sdf1.withColumn('player_height_meters', sdf1['player_height']/100).sort(\"player_height_meters\", ascending=False)\n",
        "sdf2.select(\"player_name\",\"player_height_meters\").distinct().show(3)"
      ],
      "metadata": {
        "colab": {
          "base_uri": "https://localhost:8080/"
        },
        "id": "vBtIJ67hlKrr",
        "outputId": "52c85393-907b-4680-d849-a7971439f754"
      },
      "execution_count": 51,
      "outputs": [
        {
          "output_type": "stream",
          "name": "stdout",
          "text": [
            "+--------------+--------------------+\n",
            "|   player_name|player_height_meters|\n",
            "+--------------+--------------------+\n",
            "|Walter McCarty|              2.0828|\n",
            "| Devean George|               2.032|\n",
            "|  Tim Hardaway|              1.8288|\n",
            "+--------------+--------------------+\n",
            "only showing top 3 rows\n",
            "\n"
          ]
        }
      ]
    },
    {
      "cell_type": "markdown",
      "source": [
        "####  Display the information of players that come from Mexico"
      ],
      "metadata": {
        "id": "Clr77nUdYZTC"
      }
    },
    {
      "cell_type": "code",
      "source": [
        "sdf.filter(sdf.country == 'Mexico').show(10) "
      ],
      "metadata": {
        "colab": {
          "base_uri": "https://localhost:8080/"
        },
        "id": "4Us4JVvpYcML",
        "outputId": "8ee88aa5-5d7c-4f45-c300-40621936e4a2"
      },
      "execution_count": 33,
      "outputs": [
        {
          "output_type": "stream",
          "name": "stdout",
          "text": [
            "+----------+--------------+-----------------+----+-------------+-------------+--------+-------+----------+-----------+------------+---+---+---+---+----------+--------+--------+-------+------------------+------------------+-------+\n",
            "|Unnamed: 0|   player_name|team_abbreviation| age|player_height|player_weight| college|country|draft_year|draft_round|draft_number| gp|pts|reb|ast|net_rating|oreb_pct|dreb_pct|usg_pct|            ts_pct|           ast_pct| season|\n",
            "+----------+--------------+-----------------+----+-------------+-------------+--------+-------+----------+-----------+------------+---+---+---+---+----------+--------+--------+-------+------------------+------------------+-------+\n",
            "|      1765|Eduardo Najera|              DAL|24.0|        203.2|   106.140528|Oklahoma| Mexico|      2000|          2|          38| 40|3.3|2.4|0.7|      -4.9|   0.107|   0.142|  0.146|             0.522|             0.093|2000-01|\n",
            "|      2624|Eduardo Najera|              DAL|25.0|        203.2|   106.140528|Oklahoma| Mexico|      2000|          2|          38| 62|6.5|5.5|0.6|      12.1|   0.123|   0.159|  0.132|0.5479999999999999|             0.039|2001-02|\n",
            "|      2825|Eduardo Najera|              DAL|26.0|        203.2|    106.59412|Oklahoma| Mexico|      2000|          2|          38| 48|6.7|4.6|1.0|      13.9|   0.092|    0.13|  0.121|              0.59|              0.06|2002-03|\n",
            "|      3455|Eduardo Najera|              DAL|27.0|        203.2|    106.59412|Oklahoma| Mexico|      2000|          2|          38| 58|3.0|2.7|0.4|       5.4|   0.095|   0.135|  0.129|             0.483|             0.051|2003-04|\n",
            "|      3942|Eduardo Najera|              DEN|28.0|        203.2|    106.59412|Oklahoma| Mexico|      2000|          2|          38| 68|5.2|3.6|1.0|       2.8|   0.092|    0.14|  0.158|             0.489|             0.084|2004-05|\n",
            "|      4419|Eduardo Najera|              DEN|29.0|        203.2|     99.79024|Oklahoma| Mexico|      2000|          2|          38| 64|5.4|5.1|0.8|       0.7|   0.099|   0.161|  0.123|             0.494|             0.054|2005-06|\n",
            "|      4433|Eduardo Najera|              DEN|30.0|        203.2|    106.59412|Oklahoma| Mexico|      2000|          2|          38| 75|6.6|4.1|0.9|       0.9|   0.091|   0.124|   0.12|             0.609|0.0559999999999999|2006-07|\n",
            "|      4900|Eduardo Najera|              DEN|31.0|        203.2|    106.59412|Oklahoma| Mexico|      2000|          2|          38| 78|5.9|4.3|1.2|       9.7|   0.074|   0.143|  0.119|              0.57|             0.079|2007-08|\n",
            "|      5350|Eduardo Najera|              NJN|32.0|        203.2|    106.59412|Oklahoma| Mexico|      2000|          2|          38| 27|2.9|2.5|0.7|     -15.0|   0.059|    0.19|  0.152|             0.472|              0.11|2008-09|\n",
            "|      5930|Eduardo Najera|              DAL|33.0|        203.2|    106.59412|Oklahoma| Mexico|      2000|          2|          38| 46|3.4|2.5|0.6|      -3.1|   0.054|   0.143|  0.121|             0.501|             0.061|2009-10|\n",
            "+----------+--------------+-----------------+----+-------------+-------------+--------+-------+----------+-----------+------------+---+---+---+---+----------+--------+--------+-------+------------------+------------------+-------+\n",
            "only showing top 10 rows\n",
            "\n"
          ]
        }
      ]
    },
    {
      "cell_type": "markdown",
      "source": [
        "#### Calculate the BMI of each player, insert into the collection as a new column, then display the players according to their BMI descendingly"
      ],
      "metadata": {
        "id": "7q78fWJYYciq"
      }
    },
    {
      "cell_type": "code",
      "source": [
        "sdf3 = sdf2.withColumn('bmi', sdf2['player_weight']/sdf2['player_height_meters']**2)\n",
        "sdf3.select(\"player_name\",\"bmi\").distinct().sort(\"bmi\", ascending=False).show(5)"
      ],
      "metadata": {
        "colab": {
          "base_uri": "https://localhost:8080/"
        },
        "id": "-Gp_Ih3cYhFJ",
        "outputId": "31c215a9-2152-4511-963d-db3bd49ccc02"
      },
      "execution_count": 57,
      "outputs": [
        {
          "output_type": "stream",
          "name": "stdout",
          "text": [
            "+----------------+-----------------+\n",
            "|     player_name|              bmi|\n",
            "+----------------+-----------------+\n",
            "|   Oliver Miller|34.82661591142417|\n",
            "|   Oliver Miller| 33.7550277295342|\n",
            "|   Oliver Miller|33.21923363858921|\n",
            "|Shaquille O'Neal|33.08560028884764|\n",
            "| Zion Williamson|32.81913177896047|\n",
            "+----------------+-----------------+\n",
            "only showing top 5 rows\n",
            "\n"
          ]
        }
      ]
    },
    {
      "cell_type": "markdown",
      "source": [
        "#### Display the number of players from each country, showing the 5 least present countries"
      ],
      "metadata": {
        "id": "rLl1bvpqYhci"
      }
    },
    {
      "cell_type": "code",
      "source": [
        "country_counts = sdf1.groupby(['country'])\\\n",
        ".agg({\"country\": \"count\"})\\\n",
        ".sort(\"count(country)\", ascending=True)\\\n",
        ".show(5)"
      ],
      "metadata": {
        "colab": {
          "base_uri": "https://localhost:8080/"
        },
        "id": "1bjAILlrYlfK",
        "outputId": "419dc688-8bf8-4220-87d6-5f358a39c1b3"
      },
      "execution_count": 58,
      "outputs": [
        {
          "output_type": "stream",
          "name": "stdout",
          "text": [
            "+-----------+--------------+\n",
            "|    country|count(country)|\n",
            "+-----------+--------------+\n",
            "|Puerto Rico|             1|\n",
            "|     Angola|             1|\n",
            "|      Ghana|             1|\n",
            "|      Gabon|             1|\n",
            "|     Guinea|             1|\n",
            "+-----------+--------------+\n",
            "only showing top 5 rows\n",
            "\n"
          ]
        }
      ]
    }
  ]
}