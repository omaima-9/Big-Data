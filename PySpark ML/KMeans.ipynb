{
  "cells": [
    {
      "cell_type": "code",
      "execution_count": 1,
      "metadata": {
        "colab": {
          "base_uri": "https://localhost:8080/"
        },
        "id": "sITJlgFaOWHT",
        "outputId": "7a001645-d9c2-4eb4-fedd-24673d3253e6"
      },
      "outputs": [
        {
          "name": "stdout",
          "output_type": "stream",
          "text": [
            "Looking in indexes: https://pypi.org/simple, https://us-python.pkg.dev/colab-wheels/public/simple/\n",
            "Collecting pyspark\n",
            "  Downloading pyspark-3.3.0.tar.gz (281.3 MB)\n",
            "\u001b[K     |████████████████████████████████| 281.3 MB 42 kB/s \n",
            "\u001b[?25hCollecting py4j==0.10.9.5\n",
            "  Downloading py4j-0.10.9.5-py2.py3-none-any.whl (199 kB)\n",
            "\u001b[K     |████████████████████████████████| 199 kB 45.0 MB/s \n",
            "\u001b[?25hBuilding wheels for collected packages: pyspark\n",
            "  Building wheel for pyspark (setup.py) ... \u001b[?25l\u001b[?25hdone\n",
            "  Created wheel for pyspark: filename=pyspark-3.3.0-py2.py3-none-any.whl size=281764026 sha256=572963157579f1ca0c0e18a5f7ed3a4cd127a9d24c7d106a7ce21c088fcefba4\n",
            "  Stored in directory: /root/.cache/pip/wheels/7a/8e/1b/f73a52650d2e5f337708d9f6a1750d451a7349a867f928b885\n",
            "Successfully built pyspark\n",
            "Installing collected packages: py4j, pyspark\n",
            "Successfully installed py4j-0.10.9.5 pyspark-3.3.0\n"
          ]
        }
      ],
      "source": [
        "!pip install pyspark"
      ]
    },
    {
      "cell_type": "code",
      "execution_count": 19,
      "metadata": {
        "id": "sAvHf-qsnCYR"
      },
      "outputs": [],
      "source": [
        "import pandas as pd\n",
        "\n",
        "df = pd.read_csv('iris.csv', header=0)\n",
        "ds = df.sample(frac=1).reset_index(drop=True)\n",
        "ds.to_csv('iris_shuffled.csv', index=False)"
      ]
    },
    {
      "cell_type": "code",
      "execution_count": 20,
      "metadata": {
        "id": "2O6_OlHtOcIO"
      },
      "outputs": [],
      "source": [
        "from pyspark.sql import SparkSession\n",
        "\n",
        "spark = SparkSession.builder.appName('clustering').getOrCreate()\n",
        "df = spark.read.csv('iris_shuffled.csv', header = True, inferSchema = True)"
      ]
    },
    {
      "cell_type": "code",
      "execution_count": 21,
      "metadata": {
        "colab": {
          "base_uri": "https://localhost:8080/"
        },
        "id": "iXX0z9iVRJcV",
        "outputId": "be48c748-8a8a-46b1-c437-20f6f847fc39"
      },
      "outputs": [
        {
          "data": {
            "text/plain": [
              "['sepal_length', 'sepal_width', 'petal_length', 'petal_width', 'species']"
            ]
          },
          "execution_count": 21,
          "metadata": {},
          "output_type": "execute_result"
        }
      ],
      "source": [
        "df.columns"
      ]
    },
    {
      "cell_type": "code",
      "execution_count": 22,
      "metadata": {
        "colab": {
          "base_uri": "https://localhost:8080/"
        },
        "id": "hllGD25OVMr8",
        "outputId": "79aa7790-e59c-4d95-b2c0-e4c70827af0c"
      },
      "outputs": [
        {
          "name": "stdout",
          "output_type": "stream",
          "text": [
            "+---------------+\n",
            "|        species|\n",
            "+---------------+\n",
            "| Iris-virginica|\n",
            "|    Iris-setosa|\n",
            "|Iris-versicolor|\n",
            "+---------------+\n",
            "\n"
          ]
        }
      ],
      "source": [
        "df.select(\"species\").distinct().show()"
      ]
    },
    {
      "cell_type": "code",
      "execution_count": 23,
      "metadata": {
        "colab": {
          "base_uri": "https://localhost:8080/"
        },
        "id": "N7nFHrwvbuNG",
        "outputId": "eb57326b-d17e-4014-8cc7-c50dc767eec0"
      },
      "outputs": [
        {
          "name": "stdout",
          "output_type": "stream",
          "text": [
            "+------------+-----------+------------+-----------+-------+\n",
            "|sepal_length|sepal_width|petal_length|petal_width|species|\n",
            "+------------+-----------+------------+-----------+-------+\n",
            "|         5.0|        3.5|         1.3|        0.3|      1|\n",
            "|         6.7|        3.3|         5.7|        2.5|      2|\n",
            "|         5.2|        4.1|         1.5|        0.1|      1|\n",
            "|         4.8|        3.1|         1.6|        0.2|      1|\n",
            "|         4.7|        3.2|         1.3|        0.2|      1|\n",
            "|         6.0|        2.9|         4.5|        1.5|      0|\n",
            "|         5.1|        2.5|         3.0|        1.1|      0|\n",
            "|         4.4|        2.9|         1.4|        0.2|      1|\n",
            "|         4.9|        3.0|         1.4|        0.2|      1|\n",
            "|         5.4|        3.4|         1.7|        0.2|      1|\n",
            "|         5.7|        3.0|         4.2|        1.2|      0|\n",
            "|         7.1|        3.0|         5.9|        2.1|      2|\n",
            "|         6.7|        3.3|         5.7|        2.1|      2|\n",
            "|         5.8|        2.7|         5.1|        1.9|      2|\n",
            "|         7.7|        3.0|         6.1|        2.3|      2|\n",
            "|         5.6|        3.0|         4.5|        1.5|      0|\n",
            "|         5.7|        4.4|         1.5|        0.4|      1|\n",
            "|         7.2|        3.0|         5.8|        1.6|      2|\n",
            "|         5.3|        3.7|         1.5|        0.2|      1|\n",
            "|         6.9|        3.1|         5.4|        2.1|      2|\n",
            "+------------+-----------+------------+-----------+-------+\n",
            "only showing top 20 rows\n",
            "\n"
          ]
        }
      ],
      "source": [
        "df = df.replace(['Iris-versicolor', 'Iris-setosa', 'Iris-virginica'], ['0', '1', '2'], 'species')\n",
        "df = df.withColumn(\"species\",df.species.cast('int'))\n",
        "df.show()"
      ]
    },
    {
      "cell_type": "markdown",
      "metadata": {
        "id": "s2DLHs4HWtKQ"
      },
      "source": [
        "K Means"
      ]
    },
    {
      "cell_type": "code",
      "execution_count": 24,
      "metadata": {
        "id": "3RVvLcitQKde"
      },
      "outputs": [],
      "source": [
        "from pyspark.ml.feature import VectorAssembler\n",
        "\n",
        "features =  ('sepal_length', 'sepal_width', 'petal_length', 'petal_width') \n",
        "assembler = VectorAssembler(inputCols=features,outputCol=\"features\")\n",
        "dataset = assembler.transform(df)"
      ]
    },
    {
      "cell_type": "code",
      "execution_count": 25,
      "metadata": {
        "colab": {
          "base_uri": "https://localhost:8080/"
        },
        "id": "XkhVE2yHjZ0S",
        "outputId": "145d473c-4e16-4863-978a-6e2c56026b86"
      },
      "outputs": [
        {
          "name": "stdout",
          "output_type": "stream",
          "text": [
            "KMeans Accuracy = 96.55172413793103 %\n"
          ]
        }
      ],
      "source": [
        "from pyspark.ml.clustering import KMeans\n",
        "from sklearn.metrics import accuracy_score\n",
        "\n",
        "trainingData, testData = dataset.randomSplit([0.8, 0.2])\n",
        "\n",
        "# Trains a k-means model\n",
        "kmeans = KMeans().setK(3).setSeed(1)\n",
        "model = kmeans.fit(trainingData)\n",
        "\n",
        "# Make predictions\n",
        "predictions = model.transform(testData)\n",
        "\n",
        "true_labels=predictions.select('species')\n",
        "km_predictions=predictions.select('prediction')\n",
        "\n",
        "accuracy = accuracy_score(true_labels.toPandas(), km_predictions.toPandas())\n",
        "print(\"KMeans Accuracy =\",accuracy*100,\"%\") # ~~> will vary with each run depending on the testing portion of the data (since our dataset is very small to begin with)"
      ]
    },
    {
      "cell_type": "code",
      "execution_count": 26,
      "metadata": {
        "colab": {
          "base_uri": "https://localhost:8080/"
        },
        "id": "dFleoNQPTRyd",
        "outputId": "e62489b9-7fde-4767-cfb8-88d566b46eca"
      },
      "outputs": [
        {
          "name": "stdout",
          "output_type": "stream",
          "text": [
            "+------------+-----------+------------+-----------+-------+-----------------+----------+\n",
            "|sepal_length|sepal_width|petal_length|petal_width|species|         features|prediction|\n",
            "+------------+-----------+------------+-----------+-------+-----------------+----------+\n",
            "|         4.3|        3.0|         1.1|        0.1|      1|[4.3,3.0,1.1,0.1]|         1|\n",
            "|         4.5|        2.3|         1.3|        0.3|      1|[4.5,2.3,1.3,0.3]|         1|\n",
            "|         4.8|        3.0|         1.4|        0.1|      1|[4.8,3.0,1.4,0.1]|         1|\n",
            "|         4.8|        3.4|         1.9|        0.2|      1|[4.8,3.4,1.9,0.2]|         1|\n",
            "|         5.0|        3.5|         1.6|        0.6|      1|[5.0,3.5,1.6,0.6]|         1|\n",
            "|         5.1|        3.7|         1.5|        0.4|      1|[5.1,3.7,1.5,0.4]|         1|\n",
            "|         5.3|        3.7|         1.5|        0.2|      1|[5.3,3.7,1.5,0.2]|         1|\n",
            "|         5.5|        2.3|         4.0|        1.3|      0|[5.5,2.3,4.0,1.3]|         0|\n",
            "|         5.5|        2.4|         3.8|        1.1|      0|[5.5,2.4,3.8,1.1]|         0|\n",
            "|         5.5|        2.5|         4.0|        1.3|      0|[5.5,2.5,4.0,1.3]|         0|\n",
            "|         5.7|        2.6|         3.5|        1.0|      0|[5.7,2.6,3.5,1.0]|         0|\n",
            "|         5.7|        3.0|         4.2|        1.2|      0|[5.7,3.0,4.2,1.2]|         0|\n",
            "|         5.8|        2.6|         4.0|        1.2|      0|[5.8,2.6,4.0,1.2]|         0|\n",
            "|         5.9|        3.2|         4.8|        1.8|      0|[5.9,3.2,4.8,1.8]|         0|\n",
            "|         6.0|        2.7|         5.1|        1.6|      0|[6.0,2.7,5.1,1.6]|         0|\n",
            "|         6.1|        2.8|         4.0|        1.3|      0|[6.1,2.8,4.0,1.3]|         0|\n",
            "|         6.2|        2.2|         4.5|        1.5|      0|[6.2,2.2,4.5,1.5]|         0|\n",
            "|         6.3|        2.5|         5.0|        1.9|      2|[6.3,2.5,5.0,1.9]|         0|\n",
            "|         6.3|        2.9|         5.6|        1.8|      2|[6.3,2.9,5.6,1.8]|         2|\n",
            "|         6.3|        3.3|         4.7|        1.6|      0|[6.3,3.3,4.7,1.6]|         0|\n",
            "+------------+-----------+------------+-----------+-------+-----------------+----------+\n",
            "only showing top 20 rows\n",
            "\n"
          ]
        }
      ],
      "source": [
        "predictions.show()"
      ]
    }
  ],
  "metadata": {
    "colab": {
      "collapsed_sections": [],
      "name": "BDAss3-KMeans.ipynb",
      "provenance": []
    },
    "kernelspec": {
      "display_name": "Python 3",
      "language": "python",
      "name": "python3"
    },
    "language_info": {
      "name": "python",
      "version": "3.9.0 (tags/v3.9.0:9cf6752, Oct  5 2020, 15:34:40) [MSC v.1927 64 bit (AMD64)]"
    },
    "vscode": {
      "interpreter": {
        "hash": "b667cebad148e7b094a58ee81f940c685de1dd70a003a9ccdca4a5792431bee5"
      }
    }
  },
  "nbformat": 4,
  "nbformat_minor": 0
}
